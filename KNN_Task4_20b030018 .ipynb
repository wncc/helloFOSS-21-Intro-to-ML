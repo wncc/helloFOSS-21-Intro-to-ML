{
 "cells": [
  {
   "cell_type": "markdown",
   "metadata": {
    "id": "cPP7BfqFSgyH"
   },
   "source": [
    "# K-Nearest Neighbors Algorithm\n"
   ]
  },
  {
   "cell_type": "markdown",
   "metadata": {
    "id": "Zd0p7ZUpSgyL"
   },
   "source": [
    "![example 1.png](data:image/png;base64,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)In this Jupyter Notebook we will focus on $KNN-Algorithm$. KNN is a data classification algorithm that attempts to determine what group a data point is in by looking at the data points around it.\n",
    "\n",
    "An algorithm, looking at one point on a grid, trying to determine if a point is in group A or B, looks at the states of the points that are near it. The range is arbitrarily determined, but the point is to take a sample of the data. If the majority of the points are in group A, then it is likely that the data point in question will be A rather than B, and vice versa.\n",
    "<br>\n",
    "\n",
    "<img src=\"knn/example 1.png\"  height=\"30%\" width=\"30%\">\n"
   ]
  },
  {
   "cell_type": "markdown",
   "metadata": {
    "id": "TyGHDf4NSgyM"
   },
   "source": [
    "# Imports"
   ]
  },
  {
   "cell_type": "code",
   "execution_count": 163,
   "metadata": {
    "id": "iIEvA0xjSgyN"
   },
   "outputs": [],
   "source": [
    "import numpy as np\n",
    "from math import *\n",
    "import tqdm\n",
    "from collections import Counter"
   ]
  },
  {
   "cell_type": "markdown",
   "metadata": {
    "id": "rc8ruF56SgyO"
   },
   "source": [
    "# How it works?\n",
    "\n",
    "We have some labeled data set $X-train$, and a new set $X$ that we want to classify based on previous classifications\n",
    "\n"
   ]
  },
  {
   "cell_type": "markdown",
   "metadata": {
    "id": "rGbvEXbvSgyO"
   },
   "source": [
    "## Seps"
   ]
  },
  {
   "cell_type": "markdown",
   "metadata": {
    "id": "B-nf9G4ZSgyP"
   },
   "source": [
    "### 1. Calculate distance to all neighbours\n",
    "### 2. Sort neightbours (based on closest distance)\n",
    "### 3. Count possibilities of each class for k nearest neighbours \n",
    "### 4. The class with highest possibilty is Your prediction"
   ]
  },
  {
   "cell_type": "markdown",
   "metadata": {
    "id": "LuWwKdFrSgyP"
   },
   "source": [
    "# 1. Calculate distance to all neighbours\n",
    "\n",
    "Depending on the problem You should use different type of count distance method.\n",
    "<br>\n",
    "For example we can use Euclidean distance. Euclidean distance is the \"ordinary\" straight-line distance between two points in D-Dimensional space\n",
    "\n",
    "#### Definiton\n",
    "$d(p, q) = d(q, p) = \\sqrt{(q_1 - p_1)^2 + (q_2 - p_2)^2 + \\dots + (q_D - p_D)^2} = \\sum_{d=1}^{D} (p_d - q_d)^2$\n",
    "\n",
    "#### Example\n",
    "Distance in $R^2$\n",
    "<img src=\"knn/euklidean_example.png\"  height=\"30%\" width=\"30%\">\n",
    "\n",
    "\n",
    "$p = (4,6)$\n",
    "<br>\n",
    "$q = (1,2)$\n",
    "<br>\n",
    "$d(p, q) = \\sqrt{(1-4)^2 + (2-6)^2} =\\sqrt{9 + 16} = \\sqrt{25} = 5 $\n",
    "\n"
   ]
  },
  {
   "cell_type": "markdown",
   "metadata": {
    "id": "vlvNZqiJSgyQ"
   },
   "source": [
    "## Code"
   ]
  },
  {
   "cell_type": "code",
   "execution_count": 164,
   "metadata": {
    "id": "EvmQi6nsSgyR"
   },
   "outputs": [],
   "source": [
    "def get_euclidean_distance(A, B): \n",
    "    C = np.zeros([A.shape[0], B.shape[0]])\n",
    "    for i in range(A.shape[0]):\n",
    "        for j in range(B.shape[0]):\n",
    "            C[i][j] = sqrt(np.sum((A[i] - B[j]) ** 2))\n",
    "    return C"
   ]
  },
  {
   "cell_type": "markdown",
   "metadata": {
    "id": "GABzTa_0SgyS"
   },
   "source": [
    "## Example Usage"
   ]
  },
  {
   "cell_type": "code",
   "execution_count": 165,
   "metadata": {
    "colab": {
     "base_uri": "https://localhost:8080/"
    },
    "id": "W6b8yBSoSgyS",
    "outputId": "91bd6889-b90d-408f-a5f7-8c6cf618223e"
   },
   "outputs": [
    {
     "name": "stdout",
     "output_type": "stream",
     "text": [
      "X: 2 Exaples in 3 Dimensional space\n",
      "X_train: 4 Exaples in 3 Dimensional space\n",
      "X:\n",
      "[[ 1  2  3]\n",
      " [-4  5 -6]]\n",
      "X_train:\n",
      "[[ 0  0  0]\n",
      " [ 1  2  3]\n",
      " [ 4  5  6]\n",
      " [-4  4 -6]]\n"
     ]
    }
   ],
   "source": [
    "X = np.array([[1,2,3] , [-4,5,-6]])\n",
    "\n",
    "X_train = np.array([[0,0,0], [1,2,3], [4,5,6], [-4, 4, -6]])\n",
    "\n",
    "print(\"X: {} Exaples in {} Dimensional space\".format(*X.shape))\n",
    "print(\"X_train: {} Exaples in {} Dimensional space\".format(*X_train.shape))\n",
    "\n",
    "print(\"X:\")\n",
    "print(X)\n",
    "\n",
    "print(\"X_train:\")\n",
    "print(X_train)\n"
   ]
  },
  {
   "cell_type": "code",
   "execution_count": 166,
   "metadata": {
    "id": "kB8IZcDpSgyT",
    "outputId": "0ff10c28-0e46-4f62-d18a-ad235246ad75"
   },
   "outputs": [
    {
     "name": "stdout",
     "output_type": "stream",
     "text": [
      "Distance between first example from X and first example form X_train: 3.7416573867739413\n"
     ]
    }
   ],
   "source": [
    "## Initialize the distance matrix using the get_euclidean_matrix\n",
    "distance = get_euclidean_distance(X, X_train)\n",
    "## Print Distance between nth example from X and mth from X_train = distance[n - 1][m - 1]\n",
    "print(\"Distance between first example from X and first example form X_train:\", distance[0][0])"
   ]
  },
  {
   "cell_type": "markdown",
   "metadata": {
    "id": "vbaJfBihSgyT"
   },
   "source": [
    "# 2. Sort neightbours\n",
    "\n",
    "In order to find best fitting class for our observations we need to find to which classes belong observation neightbours and then to sort classes based on the closest distance\n"
   ]
  },
  {
   "cell_type": "markdown",
   "metadata": {
    "id": "b1VLHUj2SgyU"
   },
   "source": [
    "## Code"
   ]
  },
  {
   "cell_type": "code",
   "execution_count": 167,
   "metadata": {
    "id": "na0G1o_ASgyU"
   },
   "outputs": [],
   "source": [
    "def get_sorted_train_labels(distance_matrix, y):\n",
    "    arranged_label = np.zeros([distance_matrix.shape[0], distance_matrix.shape[1]])\n",
    "    for i in range(distance_matrix.shape[0]):\n",
    "        row = []\n",
    "        for j in range(distance_matrix.shape[1]):\n",
    "            row.append([distance_matrix[i][j], y[j]])\n",
    "        row.sort()\n",
    "        for j in range(distance_matrix.shape[1]):\n",
    "            arranged_label[i][j] = row[j][1]\n",
    "    return arranged_label\n",
    "\n",
    "    \"\"\"\n",
    "    Function sorts y labels, based on probabilities from distances matrix\n",
    "    Args:\n",
    "        distance_matrix (numpy.ndarray): Distance Matrix, between points from X and X_train, size: N1:N2\n",
    "        y (numpy.ndarray): vector of classes of X points, size: N1\n",
    "\n",
    "    Returns:\n",
    "        numpy.ndarray: labels matrix sorted according to distances to nearest neightours, size N1:N2 \n",
    "\n",
    "    \"\"\"\n"
   ]
  },
  {
   "cell_type": "markdown",
   "metadata": {
    "id": "U0I8eltDSgyV"
   },
   "source": [
    "# 3. Count possibilities of each class for k nearest neighbours \n",
    "\n",
    "In order to find best class for our observation $x$ we need to calculate the probability of belonging to each class. In our case it is quite easy. We need just to count how many from k-nearest-neighbours of observation $x$ belong to each class and then devide it by k \n",
    "<br><br>\n",
    "$p(y=class \\space| x)  = \\frac{\\sum_{1}^{k}(1 \\space if \\space N_i = class, \\space else \\space 0) }{k}$ Where $N_i$ is $i$ nearest neightbour\n",
    "\n"
   ]
  },
  {
   "cell_type": "markdown",
   "metadata": {
    "id": "j0ZtOC38SgyV"
   },
   "source": [
    "## Code"
   ]
  },
  {
   "cell_type": "code",
   "execution_count": 168,
   "metadata": {
    "id": "y2aaG2GdSgyV"
   },
   "outputs": [],
   "source": [
    "def get_p_y_x_using_knn(y, k):\n",
    "\n",
    "    probabilities_matrix = []\n",
    "    for i in y:\n",
    "        d = {}\n",
    "        for j in range(k):\n",
    "            if i[j] in d.keys():\n",
    "                d[i[j]] += 1/k\n",
    "            else:\n",
    "                d[i[j]] = 1/k\n",
    "        probabilities_matrix.append(d)\n",
    "\n",
    "    return probabilities_matrix\n",
    "\n",
    "    \"\"\"\n",
    "    The function determines the probability distribution p (y | x)\n",
    "    for each of the labels for objects from the X\n",
    "    using the KNN classification learned on the X_train\n",
    "\n",
    "    Args:\n",
    "        y (numpy.ndarray): Sorted matrix of N2 nearest neighbours labels, size N1:N2\n",
    "        k (int): number of nearest neighbours for KNN algorithm\n",
    "\n",
    "    Returns: numpy.ndarray: Matrix of probabilities for N1 points (from set X) of belonging to each class,\n",
    "    size N1:C (where C is number of classes)\n",
    "    \"\"\""
   ]
  },
  {
   "cell_type": "markdown",
   "metadata": {
    "id": "ThEbAnXISgyW"
   },
   "source": [
    "# 4. The class with highest possibilty is Your prediction"
   ]
  },
  {
   "cell_type": "markdown",
   "metadata": {
    "id": "_i7NTtN4SgyW"
   },
   "source": [
    "At the end we combine all previous steps to get prediction"
   ]
  },
  {
   "cell_type": "markdown",
   "metadata": {
    "id": "OzK6rY8mSgyW"
   },
   "source": [
    "## Code"
   ]
  },
  {
   "cell_type": "code",
   "execution_count": 169,
   "metadata": {
    "id": "DaYqr_i6SgyW"
   },
   "outputs": [],
   "source": [
    "def predict(X, X_train, y_train, k, distance_function):\n",
    "\n",
    "    predictions = []\n",
    "    distance_matrix = distance_function(X,X_train)\n",
    "    probability = get_p_y_x_using_knn(get_sorted_train_labels(distance_matrix, y_train), k)\n",
    "\n",
    "    for i in probability:\n",
    "        predictions.append(max(zip(i.values(), i.keys()))[1])\n",
    "    \n",
    "    return np.array(predictions)\n",
    "    \n",
    "    \"\"\"\n",
    "    Function returns predictions for new set X based on labels of points from X_train\n",
    "    Args:\n",
    "        X (numpy.ndarray): set of observations (points) that we want to label\n",
    "        X_train (numpy.ndarray): set of lalabeld bservations (points)\n",
    "        y_train (numpy.ndarray): labels for X_train\n",
    "        k (int): number of nearest neighbours for KNN algorithm\n",
    "\n",
    "    Returns:\n",
    "        (numpy.ndarray): label predictions for points from set X\n",
    "    \"\"\""
   ]
  },
  {
   "cell_type": "markdown",
   "metadata": {
    "id": "i9kzyASWSgyX"
   },
   "source": [
    "# Accuracy"
   ]
  },
  {
   "cell_type": "markdown",
   "metadata": {
    "id": "v8bNPTPZSgyX"
   },
   "source": [
    "To find how good our knn model works we should count accuracy"
   ]
  },
  {
   "cell_type": "markdown",
   "metadata": {
    "id": "dgFCnJ14SgyX"
   },
   "source": [
    "## Code"
   ]
  },
  {
   "cell_type": "code",
   "execution_count": 170,
   "metadata": {
    "id": "2ySpyThlSgyX"
   },
   "outputs": [],
   "source": [
    "def count_accuracy(prediction, y_true):\n",
    "\n",
    "    accuracy = np.sum(prediction == y_true) / len(prediction)\n",
    "    return accuracy\n",
    "\n",
    "    \"\"\"\n",
    "    Returns:\n",
    "        float: Predictions accuracy\n",
    "\n",
    "    \"\"\""
   ]
  },
  {
   "cell_type": "markdown",
   "metadata": {
    "id": "b5g7YFY2SgyX"
   },
   "source": [
    "## Example usage"
   ]
  },
  {
   "cell_type": "code",
   "execution_count": 171,
   "metadata": {
    "id": "uLqCqmJNSgyY",
    "outputId": "37b92373-4f92-4455-fa01-2069a8f04eae"
   },
   "outputs": [
    {
     "name": "stdout",
     "output_type": "stream",
     "text": [
      "[0. 2.]\n",
      "True classes:[0 2], accuracy 100.0%\n"
     ]
    }
   ],
   "source": [
    "y_true = np.array([0, 2])\n",
    "\n",
    "prediction = predict(X, X_train, [2, 0, 0, 2], 3, get_euclidean_distance)\n",
    "print(prediction)\n",
    "\n",
    "print(\"True classes:{}, accuracy {}%\".format(y_true, count_accuracy(prediction, y_true)  * 100))"
   ]
  },
  {
   "cell_type": "markdown",
   "metadata": {
    "id": "--WUpIcxSgyY"
   },
   "source": [
    "# Find best k"
   ]
  },
  {
   "cell_type": "markdown",
   "metadata": {
    "id": "itkcD0DlSgyY"
   },
   "source": [
    "Best k parameter is that one for which we have highest accuracy"
   ]
  },
  {
   "cell_type": "markdown",
   "metadata": {
    "id": "7GYEUBnnSgyY"
   },
   "source": [
    "## Code"
   ]
  },
  {
   "cell_type": "code",
   "execution_count": 172,
   "metadata": {
    "id": "Q6OhNBOoSgyY"
   },
   "outputs": [],
   "source": [
    "def select_knn_model(X_validation, y_validation, X_train, y_train, k_values, distance_function):\n",
    "    \"\"\"\n",
    "    Function returns k parameter that best fit Xval points\n",
    "    Args:\n",
    "        Xval (numpy.ndarray): set of Validation Data, size N1:D\n",
    "        Xtrain (numpy.ndarray): set of Training Data, size N2:D\n",
    "        yval (numpy.ndarray): set of labels for Validation data, size N1:1\n",
    "        ytrain (numpy.ndarray): set of labels for Training Data, size N2:1\n",
    "        k_values (list): list of int values of k parameter that should be checked\n",
    "\n",
    "    Returns:\n",
    "        int: k paprameter that best fit validation set\n",
    "    \"\"\"\n",
    "\n",
    "    accuracies = []\n",
    "\n",
    "    for k in tqdm.notebook.tqdm(k_values):\n",
    "        prediction = predict(X_validation, X_train, y_train, k, distance_function)\n",
    "\n",
    "        accuracy = count_accuracy(prediction, y_validation)\n",
    "        accuracies.append(accuracy)\n",
    "\n",
    "    best_k = k_values[accuracies.index(max(accuracies))]\n",
    "\n",
    "    return best_k, accuracies\n"
   ]
  },
  {
   "cell_type": "markdown",
   "metadata": {
    "id": "nGtIjD0WSgyY"
   },
   "source": [
    "# Real World Example - Iris Dataset"
   ]
  },
  {
   "cell_type": "markdown",
   "metadata": {
    "id": "-o6MHMtKSgyZ"
   },
   "source": [
    "\n",
    "<img src=\"knn/iris_example1.jpeg\"  height=\"60%\" width=\"60%\">\n",
    "\n",
    "\n",
    "This is perhaps the best known database to be found in the pattern recognition literature. The data set contains 3 classes of 50 instances each, where each class refers to a type of iris plant. One class is linearly separable from the other 2; the latter are NOT linearly separable from each other. \n",
    "\n",
    "Each example contains 4 attributes\n",
    "1. sepal length in cm \n",
    "2. sepal width in cm \n",
    "3. petal length in cm \n",
    "4. petal width in cm \n",
    "\n",
    "Predicted attribute: class of iris plant. \n",
    "\n",
    "<img src=\"knn/iris_example2.png\"  height=\"70%\" width=\"70%\">\n",
    "\n",
    "\n",
    "\n",
    "\n"
   ]
  },
  {
   "cell_type": "code",
   "execution_count": 173,
   "metadata": {
    "colab": {
     "base_uri": "https://localhost:8080/"
    },
    "id": "SY8oOngQSgyZ",
    "outputId": "084afbad-b82c-417f-f4b5-9dd4cfcc2a0f"
   },
   "outputs": [
    {
     "name": "stdout",
     "output_type": "stream",
     "text": [
      "Iris: 150 examples in 4 dimensional space\n",
      "First example in dataset :\n",
      " Speal lenght: 5.1cm \n",
      " Speal width: 3.5cm \n",
      " Petal length: 1.4cm \n",
      " Petal width: 0.2cm\n",
      "Avalible classes [0 1 2]\n"
     ]
    }
   ],
   "source": [
    "from sklearn import datasets\n",
    "import matplotlib.pyplot as plt\n",
    "\n",
    "iris = datasets.load_iris()\n",
    "\n",
    "iris_X = iris.data\n",
    "iris_y = iris.target\n",
    "\n",
    "print(\"Iris: {} examples in {} dimensional space\".format(*iris_X.shape))\n",
    "print(\"First example in dataset :\\n Speal lenght: {}cm \\n Speal width: {}cm \\n Petal length: {}cm \\n Petal width: {}cm\".format(*iris_X[0]))\n",
    "\n",
    "print(\"Avalible classes\", np.unique(iris_y))"
   ]
  },
  {
   "cell_type": "markdown",
   "metadata": {
    "id": "-IlKSX7hSgyZ"
   },
   "source": [
    "## Prepare Data\n",
    "\n",
    "In our data set we have 150 examples (50 examples of each class), we have to divide it into 3 datasets.\n",
    "1. Training data set, 90 examples. It will be used to find  k - nearest neightbours\n",
    "2. Validation data set, 30 examples. It will be used to find best k parameter, the one for which accuracy is highest\n",
    "3. Test data set, 30 examples. It will be used to check how good our model performs\n",
    "\n",
    "Data has to be shuffled (mixed in random order), because originally it is stored 50 examples of class 0, 50 of 1 and 50 of 2.\n"
   ]
  },
  {
   "cell_type": "code",
   "execution_count": 174,
   "metadata": {
    "colab": {
     "base_uri": "https://localhost:8080/"
    },
    "id": "RA1Q7kCPSgyZ",
    "outputId": "bc8099c4-6777-4363-c49b-584c3b3812dd"
   },
   "outputs": [],
   "source": [
    "from sklearn.utils import shuffle\n",
    "\n",
    "iris_X, iris_y = shuffle(iris_X, iris_y, random_state=134)\n",
    "\n",
    "\n",
    "test_size = 30\n",
    "validation_size = 30\n",
    "training_size = 90\n",
    "\n",
    "X_test = iris_X[:test_size]\n",
    "X_validation = iris_X[test_size:(test_size + validation_size)]\n",
    "X_train = iris_X[(test_size + validation_size):]\n",
    "y_test = iris_y[:test_size]\n",
    "y_validation = iris_y[test_size:(test_size + validation_size)]\n",
    "y_train = iris_y[(test_size + validation_size):]"
   ]
  },
  {
   "cell_type": "markdown",
   "metadata": {
    "id": "r9xJVLzrSgyZ"
   },
   "source": [
    "## Find best k parameter"
   ]
  },
  {
   "cell_type": "code",
   "execution_count": 175,
   "metadata": {
    "colab": {
     "referenced_widgets": [
      "d75bb342c95b4339b20286ed465e89e8"
     ]
    },
    "id": "hbvZBVNBSgya",
    "outputId": "e5665acc-9a29-4094-e5cf-d4d40c1f623f"
   },
   "outputs": [
    {
     "data": {
      "application/vnd.jupyter.widget-view+json": {
       "model_id": "0f8ca8c732124b0598d8d364bc02ad02",
       "version_major": 2,
       "version_minor": 0
      },
      "text/plain": [
       "  0%|          | 0/47 [00:00<?, ?it/s]"
      ]
     },
     "metadata": {},
     "output_type": "display_data"
    },
    {
     "data": {
      "image/png": "[encoded data removed]",
      "text/plain": [
       "<Figure size 432x288 with 1 Axes>"
      ]
     },
     "metadata": {
      "needs_background": "light"
     },
     "output_type": "display_data"
    }
   ],
   "source": [
    "k_values = [i for i in range(3,50)]\n",
    "\n",
    "best_k, accuracies = select_knn_model(X_validation, y_validation, X_train, y_train, k_values, distance_function=get_euclidean_distance)\n",
    "\n",
    "plt.plot(k_values,accuracies)\n",
    "plt.xlabel(\"First K\")\n",
    "plt.ylabel(\"Accuracy\")\n",
    "plt.grid(True)\n",
    "plt.show()"
   ]
  },
  {
   "cell_type": "markdown",
   "metadata": {
    "id": "BjQBDWJMSgya"
   },
   "source": [
    "## Count accuracy for training set"
   ]
  },
  {
   "cell_type": "code",
   "execution_count": 176,
   "metadata": {
    "id": "_f-J5sSESgya",
    "outputId": "26815b47-6cb0-4ee3-a72c-b6e3a71f023c"
   },
   "outputs": [
    {
     "name": "stdout",
     "output_type": "stream",
     "text": [
      "Accuracy for first best k =  14 is 93.33 %\n"
     ]
    }
   ],
   "source": [
    "prediction = predict(X_test, X_train, y_train, best_k, get_euclidean_distance)\n",
    "\n",
    "## Calculate Best accuracy using the best k value\n",
    "print(\"Accuracy for first best k = \", best_k, \"is\", round(count_accuracy(prediction,y_test) * 100, 2), \"%\")"
   ]
  },
  {
   "cell_type": "markdown",
   "metadata": {
    "id": "72O5eXbCSgyc"
   },
   "source": [
    "# Sources\n",
    "\n",
    "https://en.wikipedia.org/wiki/K-nearest_neighbors_algorithm - first visualisation image\n",
    "\n",
    "https://en.wikipedia.org/wiki/Euclidean_distance - euclidean distance visualisation\n",
    "\n",
    "https://rajritvikblog.wordpress.com/2017/06/29/iris-dataset-analysis-python/ - first iris image\n",
    "\n",
    "https://rpubs.com/wjholst/322258 - second iris image\n",
    "\n"
   ]
  }
 ],
 "metadata": {
  "colab": {
   "name": "Knn.ipynb",
   "provenance": []
  },
  "interpreter": {
   "hash": "fe44fef87f92f48a3a32707d0df204585f471652bc0ce87358a3ce712bc24db0"
  },
  "kernelspec": {
   "display_name": "Python 3.9.7 64-bit",
   "name": "python3"
  },
  "language_info": {
   "codemirror_mode": {
    "name": "ipython",
    "version": 3
   },
   "file_extension": ".py",
   "mimetype": "text/x-python",
   "name": "python",
   "nbconvert_exporter": "python",
   "pygments_lexer": "ipython3",
   "version": "3.9.7"
  }
 },
 "nbformat": 4,
 "nbformat_minor": 1
}
