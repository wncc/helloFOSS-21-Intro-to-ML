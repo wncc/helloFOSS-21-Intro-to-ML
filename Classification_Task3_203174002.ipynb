{
  "nbformat": 4,
  "nbformat_minor": 0,
  "metadata": {
    "colab": {
      "name": "Classification_Task3_203174002.ipynb",
      "provenance": [],
      "collapsed_sections": []
    },
    "kernelspec": {
      "display_name": "Python 3",
      "language": "python",
      "name": "python3"
    },
    "language_info": {
      "codemirror_mode": {
        "name": "ipython",
        "version": 3
      },
      "file_extension": ".py",
      "mimetype": "text/x-python",
      "name": "python",
      "nbconvert_exporter": "python",
      "pygments_lexer": "ipython3",
      "version": "3.8.8"
    }
  },
  "cells": [
    {
      "cell_type": "markdown",
      "metadata": {
        "id": "7C5rAxwPGDQf"
      },
      "source": [
        "# Importing useful libraries"
      ]
    },
    {
      "cell_type": "code",
      "metadata": {
        "id": "8qvrslgsF4Mn"
      },
      "source": [
        "import numpy as np\n",
        "import pandas as pd \n",
        "from pandas import Series, DataFrame\n",
        "\n",
        "import seaborn as sns\n",
        "import matplotlib.pyplot as plt\n",
        "%matplotlib inline"
      ],
      "execution_count": 3,
      "outputs": []
    },
    {
      "cell_type": "markdown",
      "metadata": {
        "id": "6aYOLI2BHF6m"
      },
      "source": [
        "## Loading the dataset.\n",
        "The dataset can be found [here](https://github.com/shreedharmalpani/Intro-To-ML-Hello-FOSS/blob/main/iris.csv)"
      ]
    },
    {
      "cell_type": "code",
      "metadata": {
        "id": "_hccks2pF4Mq"
      },
      "source": [
        "df = pd.read_csv(\"iris.csv\")"
      ],
      "execution_count": 4,
      "outputs": []
    },
    {
      "cell_type": "code",
      "metadata": {
        "id": "um0L09IOF4Ms",
        "colab": {
          "base_uri": "https://localhost:8080/",
          "height": 205
        },
        "outputId": "b1cd9799-9cae-41f4-bcc3-ce0bb8679482"
      },
      "source": [
        "df.head()"
      ],
      "execution_count": 5,
      "outputs": [
        {
          "output_type": "execute_result",
          "data": {
            "text/html": [
              "<div>\n",
              "<style scoped>\n",
              "    .dataframe tbody tr th:only-of-type {\n",
              "        vertical-align: middle;\n",
              "    }\n",
              "\n",
              "    .dataframe tbody tr th {\n",
              "        vertical-align: top;\n",
              "    }\n",
              "\n",
              "    .dataframe thead th {\n",
              "        text-align: right;\n",
              "    }\n",
              "</style>\n",
              "<table border=\"1\" class=\"dataframe\">\n",
              "  <thead>\n",
              "    <tr style=\"text-align: right;\">\n",
              "      <th></th>\n",
              "      <th>sepal_length</th>\n",
              "      <th>sepal_width</th>\n",
              "      <th>petal_length</th>\n",
              "      <th>petal_width</th>\n",
              "      <th>species</th>\n",
              "    </tr>\n",
              "  </thead>\n",
              "  <tbody>\n",
              "    <tr>\n",
              "      <th>0</th>\n",
              "      <td>5.1</td>\n",
              "      <td>3.5</td>\n",
              "      <td>1.4</td>\n",
              "      <td>0.2</td>\n",
              "      <td>setosa</td>\n",
              "    </tr>\n",
              "    <tr>\n",
              "      <th>1</th>\n",
              "      <td>4.9</td>\n",
              "      <td>3.0</td>\n",
              "      <td>1.4</td>\n",
              "      <td>0.2</td>\n",
              "      <td>setosa</td>\n",
              "    </tr>\n",
              "    <tr>\n",
              "      <th>2</th>\n",
              "      <td>4.7</td>\n",
              "      <td>3.2</td>\n",
              "      <td>1.3</td>\n",
              "      <td>0.2</td>\n",
              "      <td>setosa</td>\n",
              "    </tr>\n",
              "    <tr>\n",
              "      <th>3</th>\n",
              "      <td>4.6</td>\n",
              "      <td>3.1</td>\n",
              "      <td>1.5</td>\n",
              "      <td>0.2</td>\n",
              "      <td>setosa</td>\n",
              "    </tr>\n",
              "    <tr>\n",
              "      <th>4</th>\n",
              "      <td>5.0</td>\n",
              "      <td>3.6</td>\n",
              "      <td>1.4</td>\n",
              "      <td>0.2</td>\n",
              "      <td>setosa</td>\n",
              "    </tr>\n",
              "  </tbody>\n",
              "</table>\n",
              "</div>"
            ],
            "text/plain": [
              "   sepal_length  sepal_width  petal_length  petal_width species\n",
              "0           5.1          3.5           1.4          0.2  setosa\n",
              "1           4.9          3.0           1.4          0.2  setosa\n",
              "2           4.7          3.2           1.3          0.2  setosa\n",
              "3           4.6          3.1           1.5          0.2  setosa\n",
              "4           5.0          3.6           1.4          0.2  setosa"
            ]
          },
          "metadata": {},
          "execution_count": 5
        }
      ]
    },
    {
      "cell_type": "code",
      "metadata": {
        "id": "cbx8gP4zF4Mt",
        "colab": {
          "base_uri": "https://localhost:8080/"
        },
        "outputId": "b449df47-a2ce-4924-e5d8-19476d34d618"
      },
      "source": [
        "df.info() "
      ],
      "execution_count": 6,
      "outputs": [
        {
          "output_type": "stream",
          "name": "stdout",
          "text": [
            "<class 'pandas.core.frame.DataFrame'>\n",
            "RangeIndex: 150 entries, 0 to 149\n",
            "Data columns (total 5 columns):\n",
            " #   Column        Non-Null Count  Dtype  \n",
            "---  ------        --------------  -----  \n",
            " 0   sepal_length  150 non-null    float64\n",
            " 1   sepal_width   150 non-null    float64\n",
            " 2   petal_length  150 non-null    float64\n",
            " 3   petal_width   150 non-null    float64\n",
            " 4   species       150 non-null    object \n",
            "dtypes: float64(4), object(1)\n",
            "memory usage: 6.0+ KB\n"
          ]
        }
      ]
    },
    {
      "cell_type": "markdown",
      "metadata": {
        "id": "vjH1pAqoJna2"
      },
      "source": [
        "# Data Cleaning & Data Visualization"
      ]
    },
    {
      "cell_type": "markdown",
      "metadata": {
        "id": "PNfSyZF1F4Mu"
      },
      "source": [
        "### 1) Remove unneeded columns\n",
        "### 2) Check for duplicate rows \n",
        "### 2) Check for rows with missing values\n"
      ]
    },
    {
      "cell_type": "code",
      "metadata": {
        "collapsed": true,
        "id": "HKFsVhubF4Mx"
      },
      "source": [
        "df.isna().sum()"
      ],
      "execution_count": null,
      "outputs": []
    },
    {
      "cell_type": "code",
      "metadata": {
        "id": "Rm7rlDcPR0aI",
        "colab": {
          "base_uri": "https://localhost:8080/",
          "height": 422
        },
        "outputId": "09eb2b3d-e418-4c73-ff44-0cc68524710a"
      },
      "source": [
        "df.isnull()"
      ],
      "execution_count": 8,
      "outputs": [
        {
          "output_type": "execute_result",
          "data": {
            "text/html": [
              "<div>\n",
              "<style scoped>\n",
              "    .dataframe tbody tr th:only-of-type {\n",
              "        vertical-align: middle;\n",
              "    }\n",
              "\n",
              "    .dataframe tbody tr th {\n",
              "        vertical-align: top;\n",
              "    }\n",
              "\n",
              "    .dataframe thead th {\n",
              "        text-align: right;\n",
              "    }\n",
              "</style>\n",
              "<table border=\"1\" class=\"dataframe\">\n",
              "  <thead>\n",
              "    <tr style=\"text-align: right;\">\n",
              "      <th></th>\n",
              "      <th>sepal_length</th>\n",
              "      <th>sepal_width</th>\n",
              "      <th>petal_length</th>\n",
              "      <th>petal_width</th>\n",
              "      <th>species</th>\n",
              "    </tr>\n",
              "  </thead>\n",
              "  <tbody>\n",
              "    <tr>\n",
              "      <th>0</th>\n",
              "      <td>False</td>\n",
              "      <td>False</td>\n",
              "      <td>False</td>\n",
              "      <td>False</td>\n",
              "      <td>False</td>\n",
              "    </tr>\n",
              "    <tr>\n",
              "      <th>1</th>\n",
              "      <td>False</td>\n",
              "      <td>False</td>\n",
              "      <td>False</td>\n",
              "      <td>False</td>\n",
              "      <td>False</td>\n",
              "    </tr>\n",
              "    <tr>\n",
              "      <th>2</th>\n",
              "      <td>False</td>\n",
              "      <td>False</td>\n",
              "      <td>False</td>\n",
              "      <td>False</td>\n",
              "      <td>False</td>\n",
              "    </tr>\n",
              "    <tr>\n",
              "      <th>3</th>\n",
              "      <td>False</td>\n",
              "      <td>False</td>\n",
              "      <td>False</td>\n",
              "      <td>False</td>\n",
              "      <td>False</td>\n",
              "    </tr>\n",
              "    <tr>\n",
              "      <th>4</th>\n",
              "      <td>False</td>\n",
              "      <td>False</td>\n",
              "      <td>False</td>\n",
              "      <td>False</td>\n",
              "      <td>False</td>\n",
              "    </tr>\n",
              "    <tr>\n",
              "      <th>...</th>\n",
              "      <td>...</td>\n",
              "      <td>...</td>\n",
              "      <td>...</td>\n",
              "      <td>...</td>\n",
              "      <td>...</td>\n",
              "    </tr>\n",
              "    <tr>\n",
              "      <th>145</th>\n",
              "      <td>False</td>\n",
              "      <td>False</td>\n",
              "      <td>False</td>\n",
              "      <td>False</td>\n",
              "      <td>False</td>\n",
              "    </tr>\n",
              "    <tr>\n",
              "      <th>146</th>\n",
              "      <td>False</td>\n",
              "      <td>False</td>\n",
              "      <td>False</td>\n",
              "      <td>False</td>\n",
              "      <td>False</td>\n",
              "    </tr>\n",
              "    <tr>\n",
              "      <th>147</th>\n",
              "      <td>False</td>\n",
              "      <td>False</td>\n",
              "      <td>False</td>\n",
              "      <td>False</td>\n",
              "      <td>False</td>\n",
              "    </tr>\n",
              "    <tr>\n",
              "      <th>148</th>\n",
              "      <td>False</td>\n",
              "      <td>False</td>\n",
              "      <td>False</td>\n",
              "      <td>False</td>\n",
              "      <td>False</td>\n",
              "    </tr>\n",
              "    <tr>\n",
              "      <th>149</th>\n",
              "      <td>False</td>\n",
              "      <td>False</td>\n",
              "      <td>False</td>\n",
              "      <td>False</td>\n",
              "      <td>False</td>\n",
              "    </tr>\n",
              "  </tbody>\n",
              "</table>\n",
              "<p>150 rows × 5 columns</p>\n",
              "</div>"
            ],
            "text/plain": [
              "     sepal_length  sepal_width  petal_length  petal_width  species\n",
              "0           False        False         False        False    False\n",
              "1           False        False         False        False    False\n",
              "2           False        False         False        False    False\n",
              "3           False        False         False        False    False\n",
              "4           False        False         False        False    False\n",
              "..            ...          ...           ...          ...      ...\n",
              "145         False        False         False        False    False\n",
              "146         False        False         False        False    False\n",
              "147         False        False         False        False    False\n",
              "148         False        False         False        False    False\n",
              "149         False        False         False        False    False\n",
              "\n",
              "[150 rows x 5 columns]"
            ]
          },
          "metadata": {},
          "execution_count": 8
        }
      ]
    },
    {
      "cell_type": "markdown",
      "metadata": {
        "id": "L1cnZS5XF4M2"
      },
      "source": [
        "### EDA (Exploratory Data Analysis) with Iris"
      ]
    },
    {
      "cell_type": "code",
      "metadata": {
        "id": "DjsnhAraF4M7",
        "colab": {
          "base_uri": "https://localhost:8080/",
          "height": 458
        },
        "outputId": "8b95cd96-2bff-4a55-919e-4eb5d4806892"
      },
      "source": [
        "##Displaying a scatter plot to show the distribution of Sepal Length vs width the dataset\n",
        "\n",
        "fig = df[df.species == 'setosa'].plot(kind='scatter', x='petal_length', y='petal_width', color='orange', label='Setosa')\n",
        "df[df.species == 'versicolor'].plot(kind='scatter', x='petal_length', y='petal_width', color='blue', label='Versicolor', ax=fig)\n",
        "df[df.species == 'virginica'].plot(kind='scatter', x='petal_length', y='petal_width', color='green', label='Virginica', ax=fig)\n",
        "\n",
        "fig.set_xlabel('Petal Length')\n",
        "fig.set_ylabel('Petal Width')\n",
        "fig.set_title('Petal Length Vs Width')\n",
        "\n",
        "fig=plt.gcf()\n",
        "fig.set_size_inches(10, 7)\n",
        "plt.show()"
      ],
      "execution_count": 9,
      "outputs": [
        {
          "output_type": "display_data",
          "data": {
            "image/png": "[encoded data removed]",
            "text/plain": [
              "<Figure size 720x504 with 1 Axes>"
            ]
          },
          "metadata": {
            "needs_background": "light"
          }
        }
      ]
    },
    {
      "cell_type": "code",
      "metadata": {
        "id": "O_eYByFvF4M5",
        "colab": {
          "base_uri": "https://localhost:8080/",
          "height": 458
        },
        "outputId": "b623dd49-eb52-4d54-e6b9-abf1d3132e0b"
      },
      "source": [
        "#Display a scatter plot to show the distribution of Sepal Length vs width the dataset (Like previous Petal lenght vs width scatter plot)\n",
        "fig=sns.scatterplot(data=df,x=\"sepal_length\",y=\"sepal_width\",hue=\"species\")\n",
        "\n",
        "\n",
        "#code\n",
        "\n",
        "fig.set_xlabel('Sepal Length')\n",
        "fig.set_ylabel('Sepal Width')\n",
        "fig.set_title('Sepal Length Vs Width')\n",
        "\n",
        "\n",
        "fig=plt.gcf()\n",
        "fig.set_size_inches(10, 7)\n",
        "plt.show()\n",
        "#example plot"
      ],
      "execution_count": 10,
      "outputs": [
        {
          "output_type": "display_data",
          "data": {
            "image/png": "[encoded data removed]",
            "text/plain": [
              "<Figure size 720x504 with 1 Axes>"
            ]
          },
          "metadata": {
            "needs_background": "light"
          }
        }
      ]
    },
    {
      "cell_type": "code",
      "metadata": {
        "id": "EIh_yKQAF4M6",
        "colab": {
          "base_uri": "https://localhost:8080/",
          "height": 242
        },
        "outputId": "8bdd4cb6-6d9f-4bf7-d2f3-55e2bf5469b2"
      },
      "source": [
        "#plot the FacetGrid plot using the seaborn library\n",
        "\n",
        "fg = sns.FacetGrid(df, col = \"species\")\n",
        "fg.map(plt.scatter, \"sepal_length\", \"sepal_width\")\n",
        "fg.add_legend()\n",
        "\n"
      ],
      "execution_count": 11,
      "outputs": [
        {
          "output_type": "execute_result",
          "data": {
            "text/plain": [
              "<seaborn.axisgrid.FacetGrid at 0x7f42db9e0450>"
            ]
          },
          "metadata": {},
          "execution_count": 11
        },
        {
          "output_type": "display_data",
          "data": {
            "image/png": "[encoded data removed]",
            "text/plain": [
              "<Figure size 656x216 with 3 Axes>"
            ]
          },
          "metadata": {
            "needs_background": "light"
          }
        }
      ]
    },
    {
      "cell_type": "code",
      "metadata": {
        "id": "yadZQxoKF4M8",
        "colab": {
          "base_uri": "https://localhost:8080/",
          "height": 390
        },
        "outputId": "168425dc-b925-409f-cb41-8499850aa047"
      },
      "source": [
        "#Plot the distritbution of the features using histgram\n",
        "plt.subplot(2, 2, 1)\n",
        "sns.histplot(data=df,x=\"petal_length\")\n",
        "plt.xlabel(\"\")\n",
        "plt.ylabel(\"\")\n",
        "plt.grid(True)\n",
        "plt.title(\"Petal length\")\n",
        "\n",
        "plt.subplot(2, 2, 2)\n",
        "sns.histplot(data=df,x=\"petal_width\")\n",
        "plt.xlabel(\"\")\n",
        "plt.ylabel(\"\")\n",
        "plt.grid(True)\n",
        "plt.title(\"Petal width\")\n",
        "\n",
        "plt.subplot(2, 2, 3)\n",
        "sns.histplot(data=df,x=\"sepal_length\")\n",
        "plt.xlabel(\"\")\n",
        "plt.ylabel(\"\")\n",
        "plt.grid(True)\n",
        "plt.title(\"Sepal length\")\n",
        "\n",
        "plt.subplot(2, 2, 4)\n",
        "sns.histplot(data=df,x=\"sepal_width\")\n",
        "plt.xlabel(\"\")\n",
        "plt.ylabel(\"\")\n",
        "plt.grid(True)\n",
        "plt.title(\"Sepal width\")\n",
        "\n",
        "#fig=sns.histplot(data=df,x=\"petal_length\")\n",
        "fig=plt.gcf()\n",
        "fig.set_size_inches(12,6)\n",
        "plt.show()"
      ],
      "execution_count": 12,
      "outputs": [
        {
          "output_type": "display_data",
          "data": {
            "image/png": "[encoded data removed]",
            "text/plain": [
              "<Figure size 864x432 with 4 Axes>"
            ]
          },
          "metadata": {
            "needs_background": "light"
          }
        }
      ]
    },
    {
      "cell_type": "markdown",
      "metadata": {
        "id": "xb-AFaG3PU0D"
      },
      "source": [
        "## Importing alll the necessary packages to use the various classification algorithms\n"
      ]
    },
    {
      "cell_type": "code",
      "metadata": {
        "id": "cJVjbgAjF4M_"
      },
      "source": [
        "from sklearn.linear_model import LogisticRegression # for Logistic Regression Algorithm\n",
        "from sklearn import svm # for suport vector machine algorithm\n",
        "from sklearn import metrics # for checking the model accuracy\n",
        "from sklearn.tree import DecisionTreeClassifier # for using DTA"
      ],
      "execution_count": 21,
      "outputs": []
    },
    {
      "cell_type": "code",
      "metadata": {
        "id": "8LizCSuWF4NA"
      },
      "source": [
        "df.shape"
      ],
      "execution_count": null,
      "outputs": []
    },
    {
      "cell_type": "markdown",
      "metadata": {
        "id": "WW5Hp1fFF4NC"
      },
      "source": [
        "Now, when we train any algorithm, the number of features and their correlation plays an important role. If there are features and many of the features are highly correlated, then training an algorithm with all the featues will reduce the accuracy. Thus features selection should be done carefully. This dataset has less featues but still we will see the correlation.\n"
      ]
    },
    {
      "cell_type": "code",
      "metadata": {
        "id": "YABeXMklF4ND",
        "colab": {
          "base_uri": "https://localhost:8080/",
          "height": 270
        },
        "outputId": "a9537d5f-a224-42a1-b4ae-f10891512872"
      },
      "source": [
        "plt.figure(figsize=(8,4))\n",
        "sns.heatmap(df.corr(), annot=True, cmap='cubehelix_r') # draws heatmap with input as correlation matrix calculated by df.corr() \n",
        "plt.show()"
      ],
      "execution_count": null,
      "outputs": [
        {
          "output_type": "display_data",
          "data": {
            "image/png": "[encoded data removed]",
            "text/plain": [
              "<Figure size 576x288 with 2 Axes>"
            ]
          },
          "metadata": {
            "needs_background": "light"
          }
        }
      ]
    },
    {
      "cell_type": "markdown",
      "metadata": {
        "id": "gsd6QaoaF4NE"
      },
      "source": [
        "Observation--->\n",
        "The Sepal Width and Length are not correlated The Petal Width and Length are highly correlated\n",
        "We will use all the features for training the algorithm and check the accuracy.\n",
        "\n",
        "Then we will use 1 Petal Feature and 1 Sepal Feature to check the accuracy of the algorithm as we are using only 2 features that are not correlated. Thus we can have a variance in the dataset which may help in better accuracy. We will check it later.\n",
        "\n",
        "Steps To Be followed When Applying an Algorithm\n",
        "\n",
        "Split the dataset into training and testing dataset. The testing dataset is generally smaller than training one as it will help in training the model better.\n",
        "\n",
        "Select any algorithm based on the problem (classification or regression) whatever you feel may be good.\n",
        "Then pass the training dataset to the algorithm to train it. We use the .fit() method\n",
        "Then pass the testing data to the trained algorithm to predict the outcome. We use the .predict() method.\n",
        "We then check the accuracy by passing the predicted outcome and the actual output to the model."
      ]
    },
    {
      "cell_type": "markdown",
      "metadata": {
        "id": "QAD_cNirF4NF"
      },
      "source": [
        "# Splitting The Data into Training And Testing Dataset"
      ]
    },
    {
      "cell_type": "code",
      "metadata": {
        "id": "ZqSRd9GzF4NF",
        "colab": {
          "base_uri": "https://localhost:8080/"
        },
        "outputId": "257d6b8c-654b-49d6-f840-d476bc46ae86"
      },
      "source": [
        "from sklearn.model_selection import train_test_split\n",
        "train, test = train_test_split(df, test_size=0.3) # our main data split into train and test\n",
        "# the attribute test_size=0.3 splits the data into 70% and 30% ratio. train=70% and test=30%\n",
        "print(train.shape)\n",
        "print(test.shape)"
      ],
      "execution_count": 15,
      "outputs": [
        {
          "output_type": "stream",
          "name": "stdout",
          "text": [
            "(105, 5)\n",
            "(45, 5)\n"
          ]
        }
      ]
    },
    {
      "cell_type": "code",
      "metadata": {
        "id": "yO2J2FpjF4NG"
      },
      "source": [
        "train_X = train[['sepal_length','sepal_width','petal_length','petal_width']] # taking the training data features\n",
        "train_y = train.species # output of the training data\n",
        "\n",
        "test_X = test[['sepal_length','sepal_width','petal_length','petal_width']] # taking test data feature\n",
        "test_y = test.species # output value of the test data"
      ],
      "execution_count": 17,
      "outputs": []
    },
    {
      "cell_type": "code",
      "metadata": {
        "id": "yR9D2qgQF4NG",
        "colab": {
          "base_uri": "https://localhost:8080/",
          "height": 205
        },
        "outputId": "0c62edeb-9629-49d0-c18e-bc232bb75be1"
      },
      "source": [
        "train_X.head()"
      ],
      "execution_count": 18,
      "outputs": [
        {
          "output_type": "execute_result",
          "data": {
            "text/html": [
              "<div>\n",
              "<style scoped>\n",
              "    .dataframe tbody tr th:only-of-type {\n",
              "        vertical-align: middle;\n",
              "    }\n",
              "\n",
              "    .dataframe tbody tr th {\n",
              "        vertical-align: top;\n",
              "    }\n",
              "\n",
              "    .dataframe thead th {\n",
              "        text-align: right;\n",
              "    }\n",
              "</style>\n",
              "<table border=\"1\" class=\"dataframe\">\n",
              "  <thead>\n",
              "    <tr style=\"text-align: right;\">\n",
              "      <th></th>\n",
              "      <th>sepal_length</th>\n",
              "      <th>sepal_width</th>\n",
              "      <th>petal_length</th>\n",
              "      <th>petal_width</th>\n",
              "    </tr>\n",
              "  </thead>\n",
              "  <tbody>\n",
              "    <tr>\n",
              "      <th>11</th>\n",
              "      <td>4.8</td>\n",
              "      <td>3.4</td>\n",
              "      <td>1.6</td>\n",
              "      <td>0.2</td>\n",
              "    </tr>\n",
              "    <tr>\n",
              "      <th>27</th>\n",
              "      <td>5.2</td>\n",
              "      <td>3.5</td>\n",
              "      <td>1.5</td>\n",
              "      <td>0.2</td>\n",
              "    </tr>\n",
              "    <tr>\n",
              "      <th>143</th>\n",
              "      <td>6.8</td>\n",
              "      <td>3.2</td>\n",
              "      <td>5.9</td>\n",
              "      <td>2.3</td>\n",
              "    </tr>\n",
              "    <tr>\n",
              "      <th>12</th>\n",
              "      <td>4.8</td>\n",
              "      <td>3.0</td>\n",
              "      <td>1.4</td>\n",
              "      <td>0.1</td>\n",
              "    </tr>\n",
              "    <tr>\n",
              "      <th>3</th>\n",
              "      <td>4.6</td>\n",
              "      <td>3.1</td>\n",
              "      <td>1.5</td>\n",
              "      <td>0.2</td>\n",
              "    </tr>\n",
              "  </tbody>\n",
              "</table>\n",
              "</div>"
            ],
            "text/plain": [
              "     sepal_length  sepal_width  petal_length  petal_width\n",
              "11            4.8          3.4           1.6          0.2\n",
              "27            5.2          3.5           1.5          0.2\n",
              "143           6.8          3.2           5.9          2.3\n",
              "12            4.8          3.0           1.4          0.1\n",
              "3             4.6          3.1           1.5          0.2"
            ]
          },
          "metadata": {},
          "execution_count": 18
        }
      ]
    },
    {
      "cell_type": "code",
      "metadata": {
        "id": "KcGbNGkcF4NH",
        "colab": {
          "base_uri": "https://localhost:8080/",
          "height": 205
        },
        "outputId": "dcc6f9ba-8240-4f3f-8d74-ff21e5ac54e3"
      },
      "source": [
        "test_X.head()"
      ],
      "execution_count": null,
      "outputs": [
        {
          "output_type": "execute_result",
          "data": {
            "text/html": [
              "<div>\n",
              "<style scoped>\n",
              "    .dataframe tbody tr th:only-of-type {\n",
              "        vertical-align: middle;\n",
              "    }\n",
              "\n",
              "    .dataframe tbody tr th {\n",
              "        vertical-align: top;\n",
              "    }\n",
              "\n",
              "    .dataframe thead th {\n",
              "        text-align: right;\n",
              "    }\n",
              "</style>\n",
              "<table border=\"1\" class=\"dataframe\">\n",
              "  <thead>\n",
              "    <tr style=\"text-align: right;\">\n",
              "      <th></th>\n",
              "      <th>sepal_length</th>\n",
              "      <th>sepal_width</th>\n",
              "      <th>petal_length</th>\n",
              "      <th>petal_width</th>\n",
              "    </tr>\n",
              "  </thead>\n",
              "  <tbody>\n",
              "    <tr>\n",
              "      <th>3</th>\n",
              "      <td>4.6</td>\n",
              "      <td>3.1</td>\n",
              "      <td>1.5</td>\n",
              "      <td>0.2</td>\n",
              "    </tr>\n",
              "    <tr>\n",
              "      <th>45</th>\n",
              "      <td>4.8</td>\n",
              "      <td>3.0</td>\n",
              "      <td>1.4</td>\n",
              "      <td>0.3</td>\n",
              "    </tr>\n",
              "    <tr>\n",
              "      <th>140</th>\n",
              "      <td>6.7</td>\n",
              "      <td>3.1</td>\n",
              "      <td>5.6</td>\n",
              "      <td>2.4</td>\n",
              "    </tr>\n",
              "    <tr>\n",
              "      <th>46</th>\n",
              "      <td>5.1</td>\n",
              "      <td>3.8</td>\n",
              "      <td>1.6</td>\n",
              "      <td>0.2</td>\n",
              "    </tr>\n",
              "    <tr>\n",
              "      <th>53</th>\n",
              "      <td>5.5</td>\n",
              "      <td>2.3</td>\n",
              "      <td>4.0</td>\n",
              "      <td>1.3</td>\n",
              "    </tr>\n",
              "  </tbody>\n",
              "</table>\n",
              "</div>"
            ],
            "text/plain": [
              "     sepal_length  sepal_width  petal_length  petal_width\n",
              "3             4.6          3.1           1.5          0.2\n",
              "45            4.8          3.0           1.4          0.3\n",
              "140           6.7          3.1           5.6          2.4\n",
              "46            5.1          3.8           1.6          0.2\n",
              "53            5.5          2.3           4.0          1.3"
            ]
          },
          "metadata": {},
          "execution_count": 37
        }
      ]
    },
    {
      "cell_type": "code",
      "metadata": {
        "id": "5sFmts-IF4NI",
        "colab": {
          "base_uri": "https://localhost:8080/"
        },
        "outputId": "3a0b4cfb-4665-4f28-9de2-0f6540a403e7"
      },
      "source": [
        "train_y.head()"
      ],
      "execution_count": 19,
      "outputs": [
        {
          "output_type": "execute_result",
          "data": {
            "text/plain": [
              "11        setosa\n",
              "27        setosa\n",
              "143    virginica\n",
              "12        setosa\n",
              "3         setosa\n",
              "Name: species, dtype: object"
            ]
          },
          "metadata": {},
          "execution_count": 19
        }
      ]
    },
    {
      "cell_type": "markdown",
      "metadata": {
        "id": "S_w4Me2bF4NL"
      },
      "source": [
        "## Logistic Regression "
      ]
    },
    {
      "cell_type": "code",
      "metadata": {
        "id": "gOQ5JrqrF4NL",
        "colab": {
          "base_uri": "https://localhost:8080/"
        },
        "outputId": "f7c03398-1ca7-4a77-87de-3b3e3553b729"
      },
      "source": [
        "model = LogisticRegression()\n",
        "model.fit(train_X, train_y)\n",
        "prediction = model.predict(test_X)\n",
        "print('The accuracy of Logistic Regression is: ', metrics.accuracy_score(prediction, test_y))"
      ],
      "execution_count": 22,
      "outputs": [
        {
          "output_type": "stream",
          "name": "stdout",
          "text": [
            "The accuracy of Logistic Regression is:  0.9777777777777777\n"
          ]
        }
      ]
    },
    {
      "cell_type": "markdown",
      "metadata": {
        "id": "e1NNX-EGF4NJ"
      },
      "source": [
        "## Support Vector Machine SVM"
      ]
    },
    {
      "cell_type": "code",
      "metadata": {
        "id": "zSJmVzqnF4NK",
        "colab": {
          "base_uri": "https://localhost:8080/"
        },
        "outputId": "c6618770-1391-4606-a015-64c020704bd8"
      },
      "source": [
        "clf = svm.SVC(kernel='linear')\n",
        "clf.fit(train_X, train_y)\n",
        "\n",
        "#Predict the response for test dataset\n",
        "prediction = clf.predict(test_X)\n",
        "\n",
        "print('The accuracy of Support Vector Machine is: ', metrics.accuracy_score(prediction, test_y))"
      ],
      "execution_count": 23,
      "outputs": [
        {
          "output_type": "stream",
          "name": "stdout",
          "text": [
            "The accuracy of Support Vector Machine is:  0.9777777777777777\n"
          ]
        }
      ]
    },
    {
      "cell_type": "markdown",
      "metadata": {
        "id": "GWfemKzPF4NN"
      },
      "source": [
        "## Decision Tree"
      ]
    },
    {
      "cell_type": "code",
      "metadata": {
        "id": "iRXy3EZIF4NN",
        "colab": {
          "base_uri": "https://localhost:8080/"
        },
        "outputId": "c95f9bbc-8021-4b16-b52a-ebb1d641e8a7"
      },
      "source": [
        "#implementing using Decision Tree\n",
        "#code\n",
        "\n",
        "print('The accuracy of Decision Tree is: ', metrics.accuracy_score(prediction, test_y))"
      ],
      "execution_count": 24,
      "outputs": [
        {
          "output_type": "stream",
          "name": "stdout",
          "text": [
            "The accuracy of Decision Tree is:  0.9777777777777777\n"
          ]
        }
      ]
    },
    {
      "cell_type": "markdown",
      "metadata": {
        "id": "uB2Co6f_F4NQ"
      },
      "source": [
        "### We used all the features of iris in above models. Now we will use Petals and Sepals Seperately"
      ]
    },
    {
      "cell_type": "markdown",
      "metadata": {
        "id": "1_v6cAZMF4NQ"
      },
      "source": [
        "### Creating Petals And Sepals Training Data"
      ]
    },
    {
      "cell_type": "code",
      "metadata": {
        "collapsed": true,
        "id": "e1Q-1b9YF4NQ"
      },
      "source": [
        "petal = df[['petal_length','petal_width','species']]\n",
        "sepal = df[['sepal_length','sepal_width','species']]"
      ],
      "execution_count": 28,
      "outputs": []
    },
    {
      "cell_type": "markdown",
      "metadata": {
        "id": "Lv-nab5oF4NQ"
      },
      "source": [
        "### For Iris Petal"
      ]
    },
    {
      "cell_type": "code",
      "metadata": {
        "collapsed": true,
        "id": "DuOqLUWZF4NQ"
      },
      "source": [
        "train_p,test_p = train_test_split(petal, test_size=0.3, random_state=0) #petals\n",
        "train_x_p = train_p[['petal_width','petal_length']]  # taking the training data's Petal features\n",
        "train_y_p = train_p.species  # output of the  training data\n",
        "\n",
        "test_x_p = test_p[['petal_width','petal_length']]   # taking the test data's Petal features\n",
        "test_y_p = test_p.species    # output of the test data"
      ],
      "execution_count": 29,
      "outputs": []
    },
    {
      "cell_type": "markdown",
      "metadata": {
        "id": "bgNB8kaNF4NU"
      },
      "source": [
        "### For Iris Sepal"
      ]
    },
    {
      "cell_type": "code",
      "metadata": {
        "id": "6hVj5MW3F4NU"
      },
      "source": [
        "#Similarly define the split for sepals\n",
        "#define the training and test data's Sepal features followed by the output of the training and test data\n",
        "\n",
        "#use naming- train_s,test_s ; train_x_s, train_y_s; test_x_s, test_y_s\n",
        "train_s,test_s = train_test_split(sepal, test_size=0.3, random_state=0) #setals\n",
        "train_x_s = train_s[['sepal_width','sepal_length']]  # taking the training data's sepal features\n",
        "train_y_s = train_s.species  # output of the  training data\n",
        "\n",
        "test_x_s = test_s[['sepal_width','sepal_length']]   # taking the test data's sepal features\n",
        "test_y_s = test_s.species    # output of the test data\n",
        "#code"
      ],
      "execution_count": 30,
      "outputs": []
    },
    {
      "cell_type": "markdown",
      "metadata": {
        "id": "y08e1O6aU9mx"
      },
      "source": [
        "Implementing the algorithms just like we did on the complete dataset but separately on sepals and petals and calculating accuracy"
      ]
    },
    {
      "cell_type": "markdown",
      "metadata": {
        "id": "TeMWnQr6F4NV"
      },
      "source": [
        "## SVM Algorithm"
      ]
    },
    {
      "cell_type": "code",
      "metadata": {
        "id": "jhlutJ78F4NV",
        "colab": {
          "base_uri": "https://localhost:8080/"
        },
        "outputId": "58709533-b2cf-45b3-98cf-34556938a806"
      },
      "source": [
        "clf = svm.SVC(kernel='linear')\n",
        "clf.fit(train_x_p, train_y_p)\n",
        "\n",
        "#Predict the response for test dataset\n",
        "prediction = clf.predict(test_x_p)\n",
        "print('The accuracy of the SVM using Petals is:',metrics.accuracy_score(prediction,test_y_p))\n",
        "\n",
        "clf = svm.SVC(kernel='linear')\n",
        "clf.fit(train_x_s, train_y_s)\n",
        "\n",
        "#Predict the response for test dataset\n",
        "prediction = clf.predict(test_x_s)\n",
        "#code\n",
        "print('The accuracy of the SVM using Sepals is:',metrics.accuracy_score(prediction,test_y_s))"
      ],
      "execution_count": 34,
      "outputs": [
        {
          "output_type": "stream",
          "name": "stdout",
          "text": [
            "The accuracy of the SVM using Petals is: 0.9777777777777777\n",
            "The accuracy of the SVM using Sepals is: 0.8\n"
          ]
        }
      ]
    },
    {
      "cell_type": "markdown",
      "metadata": {
        "id": "Mli7zcq_F4NV"
      },
      "source": [
        "## Logistic Regression"
      ]
    },
    {
      "cell_type": "code",
      "metadata": {
        "id": "2DqK_dFCF4NV",
        "colab": {
          "base_uri": "https://localhost:8080/"
        },
        "outputId": "fba2975d-3919-44a5-caa9-bcecdac3646c"
      },
      "source": [
        "model = LogisticRegression()\n",
        "model.fit(train_x_p, train_y_p)\n",
        "prediction = model.predict(test_x_p)\n",
        "\n",
        "print('The accuracy of the Logistic Regression using Petals is:',metrics.accuracy_score(prediction,test_y_p))\n",
        "\n",
        "model = LogisticRegression()\n",
        "model.fit(train_x_s, train_y_s)\n",
        "prediction = model.predict(test_x_s)\n",
        "\n",
        "print('The accuracy of the Logistic Regression using Sepals is:',metrics.accuracy_score(prediction,test_y_s))"
      ],
      "execution_count": 38,
      "outputs": [
        {
          "output_type": "stream",
          "name": "stdout",
          "text": [
            "The accuracy of the Logistic Regression using Petals is: 0.9777777777777777\n",
            "The accuracy of the Logistic Regression using Sepals is: 0.8222222222222222\n"
          ]
        }
      ]
    },
    {
      "cell_type": "markdown",
      "metadata": {
        "id": "aM-7Zx95F4NW"
      },
      "source": [
        "## Decision Tree"
      ]
    },
    {
      "cell_type": "code",
      "metadata": {
        "id": "S8tXp-gMF4NW",
        "colab": {
          "base_uri": "https://localhost:8080/"
        },
        "outputId": "7c084045-f710-4c98-dfbe-de4048897fe7"
      },
      "source": [
        "clf = DecisionTreeClassifier()\n",
        "clf.fit(train_x_p, train_y_p)\n",
        "\n",
        "#Predict the response for test dataset\n",
        "prediction = clf.predict(test_x_p)\n",
        "print('The accuracy of Decision Tree Classifier using Petals is:',metrics.accuracy_score(prediction,test_y_p))\n",
        "\n",
        "clf = DecisionTreeClassifier()\n",
        "clf.fit(train_x_s, train_y_s)\n",
        "\n",
        "#Predict the response for test dataset\n",
        "prediction = clf.predict(test_x_s)\n",
        "#code\n",
        "print('The accuracy of Decision Tree Classifier using Sepals is:',metrics.accuracy_score(prediction,test_y_s))"
      ],
      "execution_count": 40,
      "outputs": [
        {
          "output_type": "stream",
          "name": "stdout",
          "text": [
            "The accuracy of Decision Tree Classifier using Petals is: 0.9555555555555556\n",
            "The accuracy of Decision Tree Classifier using Sepals is: 0.6444444444444445\n"
          ]
        }
      ]
    },
    {
      "cell_type": "markdown",
      "metadata": {
        "id": "6ec0NUyJF4NW"
      },
      "source": [
        "\n",
        "\n",
        "\n",
        "### Question:\n",
        "Does Using Petals over Sepals for training the data give a much better accuracy? Why?\n"
      ]
    }
  ]
}
